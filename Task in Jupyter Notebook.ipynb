{
 "cells": [
  {
   "cell_type": "code",
   "execution_count": 1,
   "metadata": {},
   "outputs": [],
   "source": [
    "import pandas as pd\n",
    "import numpy as np"
   ]
  },
  {
   "cell_type": "code",
   "execution_count": 2,
   "metadata": {},
   "outputs": [],
   "source": [
    "pd.options.display.max_rows = 10"
   ]
  },
  {
   "cell_type": "code",
   "execution_count": 3,
   "metadata": {},
   "outputs": [
    {
     "data": {
      "text/plain": [
       "10"
      ]
     },
     "execution_count": 3,
     "metadata": {},
     "output_type": "execute_result"
    }
   ],
   "source": [
    "pd.options.display.max_rows"
   ]
  },
  {
   "cell_type": "markdown",
   "metadata": {},
   "source": [
    "### TASK 1"
   ]
  },
  {
   "cell_type": "code",
   "execution_count": 4,
   "metadata": {},
   "outputs": [],
   "source": [
    "# PARSE DATES INTO PANDAS READIBLE FORMAT\n",
    "mydateparser = lambda x: pd.datetime.strptime(x, \"%d.%m.%y %H:%M\") if (type(x) == str and len(x) < 15) else (pd.datetime.strptime(x.split(\"+\")[0], \"%Y-%m-%dT%H:%M:%S.%f\") if type(x) == str else np.nan)"
   ]
  },
  {
   "cell_type": "code",
   "execution_count": 5,
   "metadata": {},
   "outputs": [],
   "source": [
    "# SELECT COLUMNS WITH DATES\n",
    "test_date_columns = ['created_at', 'updated_at', 'authorized_at', 'last_event_time']\n",
    "test_level_date_columns = [\"created_at\", \"updated_at\"]\n",
    "class_date_columns = [\"created_at\", \"updated_at\", \"latest_test_time\"]"
   ]
  },
  {
   "cell_type": "code",
   "execution_count": 6,
   "metadata": {},
   "outputs": [],
   "source": [
    "# READ CSVs, INSTANTLY PARSING DATES\n",
    "test = pd.read_csv(\"test.csv\", sep=\";\", parse_dates=test_date_columns, date_parser=mydateparser)\n",
    "test_level = pd.read_csv(\"test_level.csv\", sep=\";\", parse_dates=test_level_date_columns, date_parser=mydateparser)\n",
    "class_ = pd.read_csv(\"class.csv\", sep=\";\", parse_dates=class_date_columns, date_parser=mydateparser)"
   ]
  },
  {
   "cell_type": "markdown",
   "metadata": {},
   "source": [
    "### TASK 2"
   ]
  },
  {
   "cell_type": "markdown",
   "metadata": {},
   "source": [
    "not sure, which rows are \"not correct\". Need more info about data in here. I parsed dates into pandas date format and checked unique values of every column and to be honest did not find any \"not correct\" data."
   ]
  },
  {
   "cell_type": "markdown",
   "metadata": {},
   "source": [
    "### TASK 3"
   ]
  },
  {
   "cell_type": "code",
   "execution_count": 7,
   "metadata": {},
   "outputs": [],
   "source": [
    "# PREPARE DFs TO MERGE\n",
    "class_df = class_[[\"id\", \"name\", \"teaching_hours\"]]\n",
    "class_df = class_df.rename(columns={\"id\": \"class_id\", \"name\": \"class_name\"})"
   ]
  },
  {
   "cell_type": "code",
   "execution_count": 8,
   "metadata": {},
   "outputs": [],
   "source": [
    "test_df = test[[\"id\", \"class_id\", \"created_at\", \"authorized_at\", \"test_level_id\"]]\n",
    "test_df = test_df.rename(columns={\"id\": \"test_id\", \"created_at\": \"test_created_at\", \"authorized_at\": \"test_authorized_at\", \"test_level_id\": \"test_level\"})"
   ]
  },
  {
   "cell_type": "code",
   "execution_count": 9,
   "metadata": {},
   "outputs": [],
   "source": [
    "test_level_df = test_level[[\"id\", \"displayName\"]]"
   ]
  },
  {
   "cell_type": "code",
   "execution_count": 10,
   "metadata": {},
   "outputs": [],
   "source": [
    "test_df = pd.merge(test_df, test_level_df, left_on=\"test_level\", right_on=\"id\").drop([\"test_level\", \"id\"], axis=1)"
   ]
  },
  {
   "cell_type": "code",
   "execution_count": 11,
   "metadata": {},
   "outputs": [],
   "source": [
    "test_df = test_df.rename(columns={\"displayName\": \"test_level\"})"
   ]
  },
  {
   "cell_type": "code",
   "execution_count": 12,
   "metadata": {},
   "outputs": [],
   "source": [
    "test_utilization = pd.merge(class_df, test_df, left_on=\"class_id\", right_on=\"class_id\")"
   ]
  },
  {
   "cell_type": "code",
   "execution_count": 13,
   "metadata": {},
   "outputs": [
    {
     "data": {
      "text/plain": [
       "(13039, 7)"
      ]
     },
     "execution_count": 13,
     "metadata": {},
     "output_type": "execute_result"
    }
   ],
   "source": [
    "test_utilization.shape"
   ]
  },
  {
   "cell_type": "code",
   "execution_count": 14,
   "metadata": {},
   "outputs": [],
   "source": [
    "# DROP NON AUTHORIZED\n",
    "test_utilization = test_utilization.dropna(subset=[\"test_authorized_at\"])"
   ]
  },
  {
   "cell_type": "code",
   "execution_count": 15,
   "metadata": {},
   "outputs": [
    {
     "data": {
      "text/plain": [
       "(11420, 7)"
      ]
     },
     "execution_count": 15,
     "metadata": {},
     "output_type": "execute_result"
    }
   ],
   "source": [
    "test_utilization.shape"
   ]
  },
  {
   "cell_type": "code",
   "execution_count": 16,
   "metadata": {},
   "outputs": [],
   "source": [
    "# ENUMERATE EACH SOLVED TEST\n",
    "test_utilization[\"class_test_number\"] = test_utilization.groupby(['class_id']).cumcount().add(1)"
   ]
  },
  {
   "cell_type": "code",
   "execution_count": 17,
   "metadata": {},
   "outputs": [
    {
     "data": {
      "text/html": [
       "<div>\n",
       "<style scoped>\n",
       "    .dataframe tbody tr th:only-of-type {\n",
       "        vertical-align: middle;\n",
       "    }\n",
       "\n",
       "    .dataframe tbody tr th {\n",
       "        vertical-align: top;\n",
       "    }\n",
       "\n",
       "    .dataframe thead th {\n",
       "        text-align: right;\n",
       "    }\n",
       "</style>\n",
       "<table border=\"1\" class=\"dataframe\">\n",
       "  <thead>\n",
       "    <tr style=\"text-align: right;\">\n",
       "      <th></th>\n",
       "      <th>class_id</th>\n",
       "      <th>class_name</th>\n",
       "      <th>teaching_hours</th>\n",
       "      <th>test_id</th>\n",
       "      <th>test_created_at</th>\n",
       "      <th>test_authorized_at</th>\n",
       "      <th>test_level</th>\n",
       "      <th>class_test_number</th>\n",
       "    </tr>\n",
       "  </thead>\n",
       "  <tbody>\n",
       "    <tr>\n",
       "      <th>0</th>\n",
       "      <td>1</td>\n",
       "      <td>QA Sanity</td>\n",
       "      <td>6-10</td>\n",
       "      <td>1</td>\n",
       "      <td>2018-07-06 11:37:00</td>\n",
       "      <td>2018-07-06 11:44:00</td>\n",
       "      <td>Level 1</td>\n",
       "      <td>1</td>\n",
       "    </tr>\n",
       "    <tr>\n",
       "      <th>1</th>\n",
       "      <td>1</td>\n",
       "      <td>QA Sanity</td>\n",
       "      <td>6-10</td>\n",
       "      <td>2</td>\n",
       "      <td>2018-07-06 11:49:00</td>\n",
       "      <td>2018-07-06 11:52:00</td>\n",
       "      <td>Level 1</td>\n",
       "      <td>2</td>\n",
       "    </tr>\n",
       "    <tr>\n",
       "      <th>5</th>\n",
       "      <td>1</td>\n",
       "      <td>QA Sanity</td>\n",
       "      <td>6-10</td>\n",
       "      <td>7</td>\n",
       "      <td>2018-07-06 12:17:00</td>\n",
       "      <td>2018-07-06 12:20:00</td>\n",
       "      <td>Level 1</td>\n",
       "      <td>3</td>\n",
       "    </tr>\n",
       "    <tr>\n",
       "      <th>14</th>\n",
       "      <td>5</td>\n",
       "      <td>new tell app release</td>\n",
       "      <td>3-5</td>\n",
       "      <td>14</td>\n",
       "      <td>2018-07-13 09:46:00</td>\n",
       "      <td>2018-07-13 09:49:00</td>\n",
       "      <td>Level 1</td>\n",
       "      <td>1</td>\n",
       "    </tr>\n",
       "    <tr>\n",
       "      <th>15</th>\n",
       "      <td>5</td>\n",
       "      <td>new tell app release</td>\n",
       "      <td>3-5</td>\n",
       "      <td>21</td>\n",
       "      <td>2018-07-13 15:53:00</td>\n",
       "      <td>2018-07-13 15:58:00</td>\n",
       "      <td>Level 1</td>\n",
       "      <td>2</td>\n",
       "    </tr>\n",
       "    <tr>\n",
       "      <th>...</th>\n",
       "      <td>...</td>\n",
       "      <td>...</td>\n",
       "      <td>...</td>\n",
       "      <td>...</td>\n",
       "      <td>...</td>\n",
       "      <td>...</td>\n",
       "      <td>...</td>\n",
       "      <td>...</td>\n",
       "    </tr>\n",
       "    <tr>\n",
       "      <th>13029</th>\n",
       "      <td>650</td>\n",
       "      <td>7-E</td>\n",
       "      <td>3-5</td>\n",
       "      <td>13583</td>\n",
       "      <td>2019-04-23 11:31:00</td>\n",
       "      <td>2019-04-24 08:20:00</td>\n",
       "      <td>Level 4</td>\n",
       "      <td>13</td>\n",
       "    </tr>\n",
       "    <tr>\n",
       "      <th>13030</th>\n",
       "      <td>650</td>\n",
       "      <td>7-E</td>\n",
       "      <td>3-5</td>\n",
       "      <td>13584</td>\n",
       "      <td>2019-04-23 11:31:00</td>\n",
       "      <td>2019-04-24 08:20:00</td>\n",
       "      <td>Level 4</td>\n",
       "      <td>14</td>\n",
       "    </tr>\n",
       "    <tr>\n",
       "      <th>13031</th>\n",
       "      <td>650</td>\n",
       "      <td>7-E</td>\n",
       "      <td>3-5</td>\n",
       "      <td>13585</td>\n",
       "      <td>2019-04-23 11:31:00</td>\n",
       "      <td>2019-04-24 08:20:00</td>\n",
       "      <td>Level 4</td>\n",
       "      <td>15</td>\n",
       "    </tr>\n",
       "    <tr>\n",
       "      <th>13035</th>\n",
       "      <td>652</td>\n",
       "      <td>ID-ALI-STEP UP</td>\n",
       "      <td>1-3</td>\n",
       "      <td>13613</td>\n",
       "      <td>2019-04-25 10:08:00</td>\n",
       "      <td>2019-04-25 10:14:00</td>\n",
       "      <td>Level 5</td>\n",
       "      <td>1</td>\n",
       "    </tr>\n",
       "    <tr>\n",
       "      <th>13038</th>\n",
       "      <td>653</td>\n",
       "      <td>Pinnacle</td>\n",
       "      <td>1-3</td>\n",
       "      <td>13630</td>\n",
       "      <td>2019-04-29 02:15:00</td>\n",
       "      <td>2019-04-29 02:34:00</td>\n",
       "      <td>Level 2</td>\n",
       "      <td>1</td>\n",
       "    </tr>\n",
       "  </tbody>\n",
       "</table>\n",
       "<p>11420 rows × 8 columns</p>\n",
       "</div>"
      ],
      "text/plain": [
       "       class_id            class_name teaching_hours  test_id  \\\n",
       "0             1             QA Sanity           6-10        1   \n",
       "1             1             QA Sanity           6-10        2   \n",
       "5             1             QA Sanity           6-10        7   \n",
       "14            5  new tell app release            3-5       14   \n",
       "15            5  new tell app release            3-5       21   \n",
       "...         ...                   ...            ...      ...   \n",
       "13029       650                   7-E            3-5    13583   \n",
       "13030       650                   7-E            3-5    13584   \n",
       "13031       650                   7-E            3-5    13585   \n",
       "13035       652        ID-ALI-STEP UP            1-3    13613   \n",
       "13038       653              Pinnacle            1-3    13630   \n",
       "\n",
       "          test_created_at  test_authorized_at test_level  class_test_number  \n",
       "0     2018-07-06 11:37:00 2018-07-06 11:44:00    Level 1                  1  \n",
       "1     2018-07-06 11:49:00 2018-07-06 11:52:00    Level 1                  2  \n",
       "5     2018-07-06 12:17:00 2018-07-06 12:20:00    Level 1                  3  \n",
       "14    2018-07-13 09:46:00 2018-07-13 09:49:00    Level 1                  1  \n",
       "15    2018-07-13 15:53:00 2018-07-13 15:58:00    Level 1                  2  \n",
       "...                   ...                 ...        ...                ...  \n",
       "13029 2019-04-23 11:31:00 2019-04-24 08:20:00    Level 4                 13  \n",
       "13030 2019-04-23 11:31:00 2019-04-24 08:20:00    Level 4                 14  \n",
       "13031 2019-04-23 11:31:00 2019-04-24 08:20:00    Level 4                 15  \n",
       "13035 2019-04-25 10:08:00 2019-04-25 10:14:00    Level 5                  1  \n",
       "13038 2019-04-29 02:15:00 2019-04-29 02:34:00    Level 2                  1  \n",
       "\n",
       "[11420 rows x 8 columns]"
      ]
     },
     "execution_count": 17,
     "metadata": {},
     "output_type": "execute_result"
    }
   ],
   "source": [
    "test_utilization"
   ]
  },
  {
   "cell_type": "code",
   "execution_count": 18,
   "metadata": {},
   "outputs": [],
   "source": [
    "# CHANGE DATE FORMAT\n",
    "test_utilization[\"test_created_at\"] = test_utilization[\"test_created_at\"].dt.strftime(\"%Y-%m-%d\")\n",
    "test_utilization[\"test_authorized_at\"] = test_utilization[\"test_authorized_at\"].dt.strftime(\"%Y-%m-%d\")"
   ]
  },
  {
   "cell_type": "code",
   "execution_count": 19,
   "metadata": {},
   "outputs": [
    {
     "data": {
      "text/html": [
       "<div>\n",
       "<style scoped>\n",
       "    .dataframe tbody tr th:only-of-type {\n",
       "        vertical-align: middle;\n",
       "    }\n",
       "\n",
       "    .dataframe tbody tr th {\n",
       "        vertical-align: top;\n",
       "    }\n",
       "\n",
       "    .dataframe thead th {\n",
       "        text-align: right;\n",
       "    }\n",
       "</style>\n",
       "<table border=\"1\" class=\"dataframe\">\n",
       "  <thead>\n",
       "    <tr style=\"text-align: right;\">\n",
       "      <th></th>\n",
       "      <th>class_id</th>\n",
       "      <th>class_name</th>\n",
       "      <th>teaching_hours</th>\n",
       "      <th>test_id</th>\n",
       "      <th>test_created_at</th>\n",
       "      <th>test_authorized_at</th>\n",
       "      <th>test_level</th>\n",
       "      <th>class_test_number</th>\n",
       "    </tr>\n",
       "  </thead>\n",
       "  <tbody>\n",
       "    <tr>\n",
       "      <th>0</th>\n",
       "      <td>1</td>\n",
       "      <td>QA Sanity</td>\n",
       "      <td>6-10</td>\n",
       "      <td>1</td>\n",
       "      <td>2018-07-06</td>\n",
       "      <td>2018-07-06</td>\n",
       "      <td>Level 1</td>\n",
       "      <td>1</td>\n",
       "    </tr>\n",
       "    <tr>\n",
       "      <th>1</th>\n",
       "      <td>1</td>\n",
       "      <td>QA Sanity</td>\n",
       "      <td>6-10</td>\n",
       "      <td>2</td>\n",
       "      <td>2018-07-06</td>\n",
       "      <td>2018-07-06</td>\n",
       "      <td>Level 1</td>\n",
       "      <td>2</td>\n",
       "    </tr>\n",
       "    <tr>\n",
       "      <th>5</th>\n",
       "      <td>1</td>\n",
       "      <td>QA Sanity</td>\n",
       "      <td>6-10</td>\n",
       "      <td>7</td>\n",
       "      <td>2018-07-06</td>\n",
       "      <td>2018-07-06</td>\n",
       "      <td>Level 1</td>\n",
       "      <td>3</td>\n",
       "    </tr>\n",
       "    <tr>\n",
       "      <th>14</th>\n",
       "      <td>5</td>\n",
       "      <td>new tell app release</td>\n",
       "      <td>3-5</td>\n",
       "      <td>14</td>\n",
       "      <td>2018-07-13</td>\n",
       "      <td>2018-07-13</td>\n",
       "      <td>Level 1</td>\n",
       "      <td>1</td>\n",
       "    </tr>\n",
       "    <tr>\n",
       "      <th>15</th>\n",
       "      <td>5</td>\n",
       "      <td>new tell app release</td>\n",
       "      <td>3-5</td>\n",
       "      <td>21</td>\n",
       "      <td>2018-07-13</td>\n",
       "      <td>2018-07-13</td>\n",
       "      <td>Level 1</td>\n",
       "      <td>2</td>\n",
       "    </tr>\n",
       "    <tr>\n",
       "      <th>...</th>\n",
       "      <td>...</td>\n",
       "      <td>...</td>\n",
       "      <td>...</td>\n",
       "      <td>...</td>\n",
       "      <td>...</td>\n",
       "      <td>...</td>\n",
       "      <td>...</td>\n",
       "      <td>...</td>\n",
       "    </tr>\n",
       "    <tr>\n",
       "      <th>13029</th>\n",
       "      <td>650</td>\n",
       "      <td>7-E</td>\n",
       "      <td>3-5</td>\n",
       "      <td>13583</td>\n",
       "      <td>2019-04-23</td>\n",
       "      <td>2019-04-24</td>\n",
       "      <td>Level 4</td>\n",
       "      <td>13</td>\n",
       "    </tr>\n",
       "    <tr>\n",
       "      <th>13030</th>\n",
       "      <td>650</td>\n",
       "      <td>7-E</td>\n",
       "      <td>3-5</td>\n",
       "      <td>13584</td>\n",
       "      <td>2019-04-23</td>\n",
       "      <td>2019-04-24</td>\n",
       "      <td>Level 4</td>\n",
       "      <td>14</td>\n",
       "    </tr>\n",
       "    <tr>\n",
       "      <th>13031</th>\n",
       "      <td>650</td>\n",
       "      <td>7-E</td>\n",
       "      <td>3-5</td>\n",
       "      <td>13585</td>\n",
       "      <td>2019-04-23</td>\n",
       "      <td>2019-04-24</td>\n",
       "      <td>Level 4</td>\n",
       "      <td>15</td>\n",
       "    </tr>\n",
       "    <tr>\n",
       "      <th>13035</th>\n",
       "      <td>652</td>\n",
       "      <td>ID-ALI-STEP UP</td>\n",
       "      <td>1-3</td>\n",
       "      <td>13613</td>\n",
       "      <td>2019-04-25</td>\n",
       "      <td>2019-04-25</td>\n",
       "      <td>Level 5</td>\n",
       "      <td>1</td>\n",
       "    </tr>\n",
       "    <tr>\n",
       "      <th>13038</th>\n",
       "      <td>653</td>\n",
       "      <td>Pinnacle</td>\n",
       "      <td>1-3</td>\n",
       "      <td>13630</td>\n",
       "      <td>2019-04-29</td>\n",
       "      <td>2019-04-29</td>\n",
       "      <td>Level 2</td>\n",
       "      <td>1</td>\n",
       "    </tr>\n",
       "  </tbody>\n",
       "</table>\n",
       "<p>11420 rows × 8 columns</p>\n",
       "</div>"
      ],
      "text/plain": [
       "       class_id            class_name teaching_hours  test_id test_created_at  \\\n",
       "0             1             QA Sanity           6-10        1      2018-07-06   \n",
       "1             1             QA Sanity           6-10        2      2018-07-06   \n",
       "5             1             QA Sanity           6-10        7      2018-07-06   \n",
       "14            5  new tell app release            3-5       14      2018-07-13   \n",
       "15            5  new tell app release            3-5       21      2018-07-13   \n",
       "...         ...                   ...            ...      ...             ...   \n",
       "13029       650                   7-E            3-5    13583      2019-04-23   \n",
       "13030       650                   7-E            3-5    13584      2019-04-23   \n",
       "13031       650                   7-E            3-5    13585      2019-04-23   \n",
       "13035       652        ID-ALI-STEP UP            1-3    13613      2019-04-25   \n",
       "13038       653              Pinnacle            1-3    13630      2019-04-29   \n",
       "\n",
       "      test_authorized_at test_level  class_test_number  \n",
       "0             2018-07-06    Level 1                  1  \n",
       "1             2018-07-06    Level 1                  2  \n",
       "5             2018-07-06    Level 1                  3  \n",
       "14            2018-07-13    Level 1                  1  \n",
       "15            2018-07-13    Level 1                  2  \n",
       "...                  ...        ...                ...  \n",
       "13029         2019-04-24    Level 4                 13  \n",
       "13030         2019-04-24    Level 4                 14  \n",
       "13031         2019-04-24    Level 4                 15  \n",
       "13035         2019-04-25    Level 5                  1  \n",
       "13038         2019-04-29    Level 2                  1  \n",
       "\n",
       "[11420 rows x 8 columns]"
      ]
     },
     "execution_count": 19,
     "metadata": {},
     "output_type": "execute_result"
    }
   ],
   "source": [
    "test_utilization"
   ]
  },
  {
   "cell_type": "markdown",
   "metadata": {},
   "source": [
    "### TASK 4"
   ]
  },
  {
   "cell_type": "code",
   "execution_count": 20,
   "metadata": {},
   "outputs": [],
   "source": [
    "test_average_scores = test_utilization.copy()"
   ]
  },
  {
   "cell_type": "code",
   "execution_count": 21,
   "metadata": {},
   "outputs": [],
   "source": [
    "test_scores = test[[\"id\", \"overall_score\", \"test_status\"]]\n",
    "test_scores = test_scores.rename(columns={\"id\": \"test_id\"})\n",
    "\n",
    "# KEEP JUST SCORING SCORED\n",
    "test_scores = test_scores[test_scores[\"test_status\"] == \"SCORING_SCORED\"]\n",
    "test_scores = test_scores.drop(\"test_status\", axis=1)"
   ]
  },
  {
   "cell_type": "code",
   "execution_count": 22,
   "metadata": {},
   "outputs": [],
   "source": [
    "test_average_scores = test_average_scores.drop([\"test_level\", \"class_test_number\"], axis=1)"
   ]
  },
  {
   "cell_type": "code",
   "execution_count": 23,
   "metadata": {
    "scrolled": true
   },
   "outputs": [],
   "source": [
    "test_average_scores = pd.merge(test_average_scores, test_scores, on=\"test_id\")\n",
    "test_average_scores = test_average_scores.drop(\"test_id\", axis=1)"
   ]
  },
  {
   "cell_type": "code",
   "execution_count": 24,
   "metadata": {},
   "outputs": [],
   "source": [
    "test_average_scores[\"avg_class_test_overall_score\"] = test_average_scores.groupby(\"class_id\").mean()[\"overall_score\"]"
   ]
  },
  {
   "cell_type": "code",
   "execution_count": 25,
   "metadata": {},
   "outputs": [],
   "source": [
    "aggregation_mapping = {\n",
    "    \"class_name\": \"first\",\n",
    "    \"teaching_hours\": \"first\",\n",
    "    \"test_created_at\": \"first\",\n",
    "    \"test_authorized_at\": \"first\",\n",
    "    \"overall_score\": \"mean\"\n",
    "}"
   ]
  },
  {
   "cell_type": "code",
   "execution_count": 26,
   "metadata": {},
   "outputs": [],
   "source": [
    "test_average_scores = test_average_scores.groupby(\"class_id\").agg(aggregation_mapping)\n",
    "test_average_scores = test_average_scores.rename(columns={\"overall_score\": \"avg_class_test_overall_score\"})"
   ]
  },
  {
   "cell_type": "code",
   "execution_count": 27,
   "metadata": {},
   "outputs": [
    {
     "data": {
      "text/html": [
       "<div>\n",
       "<style scoped>\n",
       "    .dataframe tbody tr th:only-of-type {\n",
       "        vertical-align: middle;\n",
       "    }\n",
       "\n",
       "    .dataframe tbody tr th {\n",
       "        vertical-align: top;\n",
       "    }\n",
       "\n",
       "    .dataframe thead th {\n",
       "        text-align: right;\n",
       "    }\n",
       "</style>\n",
       "<table border=\"1\" class=\"dataframe\">\n",
       "  <thead>\n",
       "    <tr style=\"text-align: right;\">\n",
       "      <th></th>\n",
       "      <th>class_name</th>\n",
       "      <th>teaching_hours</th>\n",
       "      <th>test_created_at</th>\n",
       "      <th>test_authorized_at</th>\n",
       "      <th>avg_class_test_overall_score</th>\n",
       "    </tr>\n",
       "    <tr>\n",
       "      <th>class_id</th>\n",
       "      <th></th>\n",
       "      <th></th>\n",
       "      <th></th>\n",
       "      <th></th>\n",
       "      <th></th>\n",
       "    </tr>\n",
       "  </thead>\n",
       "  <tbody>\n",
       "    <tr>\n",
       "      <th>1</th>\n",
       "      <td>QA Sanity</td>\n",
       "      <td>6-10</td>\n",
       "      <td>2018-07-06</td>\n",
       "      <td>2018-07-06</td>\n",
       "      <td>16.500000</td>\n",
       "    </tr>\n",
       "    <tr>\n",
       "      <th>5</th>\n",
       "      <td>new tell app release</td>\n",
       "      <td>3-5</td>\n",
       "      <td>2018-07-13</td>\n",
       "      <td>2018-07-13</td>\n",
       "      <td>17.000000</td>\n",
       "    </tr>\n",
       "    <tr>\n",
       "      <th>6</th>\n",
       "      <td>0.6.0.0</td>\n",
       "      <td>1-3</td>\n",
       "      <td>2018-07-18</td>\n",
       "      <td>2018-07-18</td>\n",
       "      <td>21.000000</td>\n",
       "    </tr>\n",
       "    <tr>\n",
       "      <th>8</th>\n",
       "      <td>DCtest</td>\n",
       "      <td>11-15</td>\n",
       "      <td>2018-08-30</td>\n",
       "      <td>2019-01-29</td>\n",
       "      <td>24.000000</td>\n",
       "    </tr>\n",
       "    <tr>\n",
       "      <th>10</th>\n",
       "      <td>0.7.0.0</td>\n",
       "      <td>3-5</td>\n",
       "      <td>2018-08-02</td>\n",
       "      <td>2018-08-02</td>\n",
       "      <td>11.000000</td>\n",
       "    </tr>\n",
       "    <tr>\n",
       "      <th>...</th>\n",
       "      <td>...</td>\n",
       "      <td>...</td>\n",
       "      <td>...</td>\n",
       "      <td>...</td>\n",
       "      <td>...</td>\n",
       "    </tr>\n",
       "    <tr>\n",
       "      <th>647</th>\n",
       "      <td>7-B</td>\n",
       "      <td>3-5</td>\n",
       "      <td>2019-04-23</td>\n",
       "      <td>2019-04-24</td>\n",
       "      <td>27.533333</td>\n",
       "    </tr>\n",
       "    <tr>\n",
       "      <th>648</th>\n",
       "      <td>7-C</td>\n",
       "      <td>3-5</td>\n",
       "      <td>2019-04-23</td>\n",
       "      <td>2019-04-24</td>\n",
       "      <td>29.533333</td>\n",
       "    </tr>\n",
       "    <tr>\n",
       "      <th>649</th>\n",
       "      <td>7-D</td>\n",
       "      <td>3-5</td>\n",
       "      <td>2019-04-23</td>\n",
       "      <td>2019-04-24</td>\n",
       "      <td>29.545455</td>\n",
       "    </tr>\n",
       "    <tr>\n",
       "      <th>650</th>\n",
       "      <td>7-E</td>\n",
       "      <td>3-5</td>\n",
       "      <td>2019-04-23</td>\n",
       "      <td>2019-04-24</td>\n",
       "      <td>28.444444</td>\n",
       "    </tr>\n",
       "    <tr>\n",
       "      <th>652</th>\n",
       "      <td>ID-ALI-STEP UP</td>\n",
       "      <td>1-3</td>\n",
       "      <td>2019-04-25</td>\n",
       "      <td>2019-04-25</td>\n",
       "      <td>41.000000</td>\n",
       "    </tr>\n",
       "  </tbody>\n",
       "</table>\n",
       "<p>443 rows × 5 columns</p>\n",
       "</div>"
      ],
      "text/plain": [
       "                    class_name teaching_hours test_created_at  \\\n",
       "class_id                                                        \n",
       "1                    QA Sanity           6-10      2018-07-06   \n",
       "5         new tell app release            3-5      2018-07-13   \n",
       "6                      0.6.0.0            1-3      2018-07-18   \n",
       "8                       DCtest          11-15      2018-08-30   \n",
       "10                     0.7.0.0            3-5      2018-08-02   \n",
       "...                        ...            ...             ...   \n",
       "647                        7-B            3-5      2019-04-23   \n",
       "648                        7-C            3-5      2019-04-23   \n",
       "649                        7-D            3-5      2019-04-23   \n",
       "650                        7-E            3-5      2019-04-23   \n",
       "652             ID-ALI-STEP UP            1-3      2019-04-25   \n",
       "\n",
       "         test_authorized_at  avg_class_test_overall_score  \n",
       "class_id                                                   \n",
       "1                2018-07-06                     16.500000  \n",
       "5                2018-07-13                     17.000000  \n",
       "6                2018-07-18                     21.000000  \n",
       "8                2019-01-29                     24.000000  \n",
       "10               2018-08-02                     11.000000  \n",
       "...                     ...                           ...  \n",
       "647              2019-04-24                     27.533333  \n",
       "648              2019-04-24                     29.533333  \n",
       "649              2019-04-24                     29.545455  \n",
       "650              2019-04-24                     28.444444  \n",
       "652              2019-04-25                     41.000000  \n",
       "\n",
       "[443 rows x 5 columns]"
      ]
     },
     "execution_count": 27,
     "metadata": {},
     "output_type": "execute_result"
    }
   ],
   "source": [
    "test_average_scores"
   ]
  },
  {
   "cell_type": "markdown",
   "metadata": {},
   "source": [
    "### TASK 5"
   ]
  },
  {
   "cell_type": "code",
   "execution_count": 28,
   "metadata": {},
   "outputs": [],
   "source": [
    "# SAVE TO CSV\n",
    "test_utilization.to_csv(\"test_utilization.csv\", index=False)\n",
    "test_average_scores.to_csv(\"test_average_scores.csv\", index=False)"
   ]
  },
  {
   "cell_type": "markdown",
   "metadata": {},
   "source": [
    "### TASK 6"
   ]
  },
  {
   "cell_type": "code",
   "execution_count": null,
   "metadata": {},
   "outputs": [],
   "source": [
    "import pymysql"
   ]
  },
  {
   "cell_type": "code",
   "execution_count": null,
   "metadata": {},
   "outputs": [],
   "source": [
    "# Connect to SQL server"
   ]
  },
  {
   "cell_type": "code",
   "execution_count": null,
   "metadata": {},
   "outputs": [],
   "source": [
    "connection = pymysql.connect(\n",
    "            host=\"\",\n",
    "            user=\"\",\n",
    "            passwd=\"\",\n",
    "            db=\"\",\n",
    "        )"
   ]
  },
  {
   "cell_type": "code",
   "execution_count": null,
   "metadata": {},
   "outputs": [],
   "source": [
    "# Create table\n",
    "\n",
    "with connection.cursor() as cursor:\n",
    "    sql_query = (\"\"\"\n",
    "            CREATE TABLE TestUtilization (\n",
    "            ClassID int,\n",
    "            ClassName varchar(255),\n",
    "            TeachingHours varchar(10),\n",
    "            TestID int,\n",
    "            TestCreatedAt DATE,\n",
    "            TestAuthorizedAt DATE,\n",
    "            TestLevel varchar(10),\n",
    "            ClassTestNumber FLOAT(5),\n",
    "        );\n",
    "    \"\"\"\n",
    "    cursor.execute(sql_query)\n",
    "    self.connection.commit()"
   ]
  },
  {
   "cell_type": "code",
   "execution_count": null,
   "metadata": {},
   "outputs": [],
   "source": [
    "df = pd.read_csv('test_utilization.csv')"
   ]
  },
  {
   "cell_type": "code",
   "execution_count": null,
   "metadata": {},
   "outputs": [],
   "source": [
    "# Insert into table\n",
    "\n",
    "with connection.cursor() as cursor:\n",
    "    for i in range(len(df)):\n",
    "        class_id = df[\"class_id\"][i]\n",
    "        class_name = df[\"class_name\"][i]\n",
    "        teaching_hours = df[\"teaching_hours\"][i]\n",
    "        test_id = df[\"test_id\"][i]\n",
    "        test_created_at = df[\"test_create_at\"][i]\n",
    "        test_authorized_at = df[\"test_authorized_at\"][i]\n",
    "        test_level = df[\"test_level\"][i]\n",
    "        class_test_number = df[\"class_test_number\"][i]\n",
    "        sql_query = (\n",
    "        f\"\"\"INSERT IGNORE INTO `TestUtilization` (ClassId, ClassName, TeachingHours, TestID, \n",
    "            TestCreatedAt, TestAuthorizedAt, TestLevel, ClassTestNumber) VALUES (%s, %s, %s, %s, %s, %s, %s, %s)\"\"\")\n",
    "        val = (class_id, class_name, teaching_hours, test_id, test_created_at, test_authorized_at, test_level, class_test_number)\n",
    "        cursor.execute(sql_query, val)\n",
    "        connection.commit()"
   ]
  },
  {
   "cell_type": "code",
   "execution_count": null,
   "metadata": {},
   "outputs": [],
   "source": []
  }
 ],
 "metadata": {
  "kernelspec": {
   "display_name": "Python 3",
   "language": "python",
   "name": "python3"
  },
  "language_info": {
   "codemirror_mode": {
    "name": "ipython",
    "version": 3
   },
   "file_extension": ".py",
   "mimetype": "text/x-python",
   "name": "python",
   "nbconvert_exporter": "python",
   "pygments_lexer": "ipython3",
   "version": "3.7.6"
  }
 },
 "nbformat": 4,
 "nbformat_minor": 4
}
